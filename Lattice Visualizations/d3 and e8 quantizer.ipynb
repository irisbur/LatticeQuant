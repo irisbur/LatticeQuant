{
 "cells": [
  {
   "metadata": {},
   "cell_type": "markdown",
   "source": [
    "# $D_3$ and $E_8$ Lattice Quantization\n",
    "\n",
    "## Introduction\n",
    "This notebook demonstrates the encoding and decoding of a normally distributed random variable using the lattices $D_3$ and $E_8$. \n",
    "We will build nested lattices, implement the closest-point algorithms for these lattices, and explore how scaling affects the error rate in decoding."
   ],
   "id": "6c4f32e594635192"
  },
  {
   "metadata": {
    "ExecuteTime": {
     "end_time": "2024-10-08T12:18:58.343645Z",
     "start_time": "2024-10-08T12:18:58.337854Z"
    }
   },
   "cell_type": "code",
   "source": [
    "import numpy as np\n",
    "import matplotlib.pyplot as plt"
   ],
   "id": "8fd015b4521faf69",
   "outputs": [],
   "execution_count": 2
  },
  {
   "metadata": {},
   "cell_type": "markdown",
   "source": [
    "## Step 1: Generate a Random Sample from a Multivariate Normal Distribution\n",
    "The random variable $x$ is drawn from a multivariate normal distribution $\\mathcal{N}(\\mu, \\sigma^2)$, where each coordinate of $x$ is independent and identically distributed."
   ],
   "id": "1bba69135b05bf2e"
  },
  {
   "metadata": {
    "ExecuteTime": {
     "end_time": "2024-10-08T12:18:58.375939Z",
     "start_time": "2024-10-08T12:18:58.348343Z"
    }
   },
   "cell_type": "code",
   "source": [
    "# Parameters\n",
    "mu, sigma = 0, 1 \n",
    "n = 8  # dimension of the sample\n",
    "\n",
    "x = np.random.normal(mu, sigma, n)\n",
    "\n",
    "print(f\"Random vector x:\\n{x}\")"
   ],
   "id": "ed3423dfdb43b6a4",
   "outputs": [
    {
     "name": "stdout",
     "output_type": "stream",
     "text": [
      "Random vector x:\n",
      "[-1.26846888 -1.41217966 -0.70383474  0.20596488 -0.93007089  0.69670297\n",
      " -1.77294882 -0.04543694]\n"
     ]
    }
   ],
   "execution_count": 3
  },
  {
   "metadata": {},
   "cell_type": "markdown",
   "source": [
    "## Step 2: Closest Point Algorithm for the $D_n$ Lattice\n",
    "The lattice $D_n$ consists of points where the sum of components is even. Given a point in $\\mathbb{R}^n$, we round it to the nearest integers and check which of the two possible points in $D_n$ (with even or odd sums) is closest."
   ],
   "id": "f6f13e46a53f6744"
  },
  {
   "metadata": {
    "ExecuteTime": {
     "end_time": "2024-10-08T12:18:58.380967Z",
     "start_time": "2024-10-08T12:18:58.377048Z"
    }
   },
   "cell_type": "code",
   "source": [
    "def g_x(x):\n",
    "    \"\"\"\n",
    "    Compute g(x) by rounding the vector x to the nearest integers, \n",
    "    but flip the rounding for the coordinate farthest from an integer.\n",
    "    \"\"\"\n",
    "    f_x = np.round(x)\n",
    "\n",
    "    fractional_parts = np.abs(x - f_x)\n",
    "    farthest_index = np.argmax(fractional_parts)\n",
    "\n",
    "    g_x_ = f_x.copy()\n",
    "    if g_x_[farthest_index] > x[farthest_index]:\n",
    "        g_x_[farthest_index] = np.floor(x[farthest_index])\n",
    "    else:\n",
    "        g_x_[farthest_index] = np.ceil(x[farthest_index])\n",
    "\n",
    "    return g_x_\n",
    "\n",
    "def closest_point_Dn(x):\n",
    "    \"\"\"\n",
    "    Find the closest point in the D_n lattice for a given vector x.\n",
    "    Uses g_x function for flipping rounding.\n",
    "    \"\"\"\n",
    "    f_x = np.round(x)\n",
    "    g_x_res = g_x(x)\n",
    "    return f_x if np.sum(f_x) % 2 == 0 else g_x_res\n",
    "\n",
    "\n",
    "# Find the closest point in D_n lattice for our random vector x\n",
    "closest_Dn = closest_point_Dn(x)\n",
    "print(f\"Closest point in D_n:\\n{closest_Dn}\")"
   ],
   "id": "3320beb74fb3c0c9",
   "outputs": [
    {
     "name": "stdout",
     "output_type": "stream",
     "text": [
      "Closest point in D_n:\n",
      "[-1. -2. -1.  0. -1.  1. -2. -0.]\n"
     ]
    }
   ],
   "execution_count": 4
  },
  {
   "metadata": {},
   "cell_type": "markdown",
   "source": [
    "## Step 3: Closest Point Algorithm for the $E_8$ Lattice\n",
    "\n",
    "The lattice $E_8$ is constructed from $D_8$ and a coset. The closest point in $E_8$ is either the closest point in $D_8$ or the point obtained by adding $(\\frac{1}{2}, \\frac{1}{2}, ..., \\frac{1}{2})$ to the coordinates of $D_8$."
   ],
   "id": "344d46a954228f3a"
  },
  {
   "metadata": {
    "ExecuteTime": {
     "end_time": "2024-10-08T12:18:58.384754Z",
     "start_time": "2024-10-08T12:18:58.381621Z"
    }
   },
   "cell_type": "code",
   "source": [
    "def closest_point_E8(x):\n",
    "    \"\"\"\n",
    "    Find the closest point in the E_8 lattice for a given vector x.\n",
    "    Uses g_x function for flipping rounding.\n",
    "    \"\"\"\n",
    "    y_0 = np.round(x) if np.sum(np.round(x)) % 2 == 0 else g_x(x)\n",
    "    \n",
    "    f_x_shifted = np.round(x - 0.5)\n",
    "    g_x_shifted = g_x(x - 0.5)\n",
    "    \n",
    "    y_1 = f_x_shifted + 0.5 if np.sum(f_x_shifted) % 2 == 0 else g_x_shifted + 0.5\n",
    "\n",
    "    if np.linalg.norm(x - y_0) < np.linalg.norm(x - y_1):\n",
    "        return y_0\n",
    "    else:\n",
    "        return y_1\n",
    "\n",
    "# Find the closest point in E_8 lattice for our random vector x\n",
    "closest_E8 = closest_point_E8(x)\n",
    "print(f\"Closest point in E_8:\\n{closest_E8}\")"
   ],
   "id": "fd20f86a37a391",
   "outputs": [
    {
     "name": "stdout",
     "output_type": "stream",
     "text": [
      "Closest point in E_8:\n",
      "[-1. -2. -1.  0. -1.  1. -2. -0.]\n"
     ]
    }
   ],
   "execution_count": 5
  },
  {
   "metadata": {},
   "cell_type": "markdown",
   "source": [
    "## Step 4: Encoding and Decoding\n",
    "\n",
    "We define encoding as finding the closest lattice point to the random vector $x$. Decoding refers to finding the closest lattice point to the encoded point, effectively recovering the original vector (with some error)."
   ],
   "id": "c7cc99c9fde04ea5"
  },
  {
   "metadata": {
    "ExecuteTime": {
     "end_time": "2024-10-08T12:18:58.388604Z",
     "start_time": "2024-10-08T12:18:58.386102Z"
    }
   },
   "cell_type": "code",
   "source": [
    "\n",
    "def encode(x, lattice_fn):\n",
    "    \"\"\"\n",
    "    Encode the vector x using the specified lattice function (e.g., closest_point_Dn or closest_point_E8).\n",
    "    \"\"\"\n",
    "    return lattice_fn(x)\n",
    "\n",
    "def decode(encoded_point, lattice_fn):\n",
    "    \"\"\"\n",
    "    Decode the encoded point back to the original lattice using the specified lattice function.\n",
    "    \"\"\"\n",
    "    return lattice_fn(encoded_point)"
   ],
   "id": "9b67ef4aec1ec7d9",
   "outputs": [],
   "execution_count": 6
  },
  {
   "metadata": {},
   "cell_type": "markdown",
   "source": [
    "## Step 5: Error Rate and Scaling\n",
    "We will now explore how scaling affects the error rates in encoding and decoding. Scaling is introduced using the parameter $q$. Larger values of $q$ scale the input vector before encoding."
   ],
   "id": "b0a91654c120d3f9"
  },
  {
   "metadata": {
    "ExecuteTime": {
     "end_time": "2024-10-08T12:18:58.392573Z",
     "start_time": "2024-10-08T12:18:58.389793Z"
    }
   },
   "cell_type": "code",
   "source": [
    "def calculate_squared_error(x, decoded_x):\n",
    "    \"\"\"\n",
    "    Calculate the Euclidean distance between the original vector x and the decoded vector decoded_x.\n",
    "    \"\"\"\n",
    "    return np.linalg.norm(x - decoded_x) ** 2\n",
    "\n",
    "# Scaling factor\n",
    "q = 2 \n",
    "\n",
    "# Scale the vector x\n",
    "scaled_x = x * q\n",
    "\n",
    "# Encode and decode the scaled vector using E_8\n",
    "encoded_x = encode(scaled_x, closest_point_E8)\n",
    "decoded_x = decode(encoded_x, closest_point_E8) / q  # Don't forget to scale back\n",
    "\n",
    "# Calculate the error\n",
    "error = calculate_squared_error(x, decoded_x)\n",
    "print(f\"Error between original and decoded vector:\\n{error}\")"
   ],
   "id": "a787b1c325deb644",
   "outputs": [
    {
     "name": "stdout",
     "output_type": "stream",
     "text": [
      "Error between original and decoded vector:\n",
      "0.10835246022093938\n"
     ]
    }
   ],
   "execution_count": 7
  },
  {
   "metadata": {},
   "cell_type": "markdown",
   "source": [
    "## Step 6: Scaling Experiment\n",
    "Let's see how the error changes for different values of the scaling factor $q$."
   ],
   "id": "c104b0a8b62199fb"
  },
  {
   "cell_type": "code",
   "id": "initial_id",
   "metadata": {
    "collapsed": true,
    "ExecuteTime": {
     "end_time": "2024-10-08T12:22:39.535743Z",
     "start_time": "2024-10-08T12:22:39.452436Z"
    }
   },
   "source": [
    "\n",
    "scaling_factors = np.linspace(0.5, 100, 20)\n",
    "errors = []\n",
    "\n",
    "for q in scaling_factors:\n",
    "    scaled_x = x * q\n",
    "    encoded_x = encode(scaled_x, closest_point_E8)\n",
    "    decoded_x = decode(encoded_x, closest_point_E8) / q\n",
    "    error = calculate_squared_error(x, decoded_x)\n",
    "    errors.append(error)\n",
    "\n",
    "# Plot the errors for different scaling factors\n",
    "plt.figure(figsize=(8, 5))\n",
    "plt.plot(scaling_factors, errors, label='Error rate', marker='o')\n",
    "plt.xlabel('Scaling factor (q)')\n",
    "plt.ylabel('Error (Euclidean distance) ^2')\n",
    "plt.title('Error Rate vs Scaling Factor for Lattice E_8')\n",
    "plt.legend()\n",
    "plt.grid(True)\n",
    "plt.show()"
   ],
   "outputs": [
    {
     "name": "stdout",
     "output_type": "stream",
     "text": [
      "[  0.5          5.73684211  10.97368421  16.21052632  21.44736842\n",
      "  26.68421053  31.92105263  37.15789474  42.39473684  47.63157895\n",
      "  52.86842105  58.10526316  63.34210526  68.57894737  73.81578947\n",
      "  79.05263158  84.28947368  89.52631579  94.76315789 100.        ]\n"
     ]
    },
    {
     "data": {
      "text/plain": [
       "<Figure size 800x500 with 1 Axes>"
      ],
      "image/png": "[encoded data removed]"
     },
     "metadata": {},
     "output_type": "display_data"
    }
   ],
   "execution_count": 11
  },
  {
   "metadata": {},
   "cell_type": "markdown",
   "source": [
    "## Conclusion\n",
    "\n",
    "In this notebook, we implemented the closest-point algorithms for lattices $D_n$ and $E_8$, encoded and decoded random Gaussian vectors using these lattices, and explored how scaling affects error rates. As we can see from the plot, larger scaling factors tend to reduce the error, but eventually, the error stabilizes due to the structure of the lattice."
   ],
   "id": "d3494fb49c0ad7b4"
  }
 ],
 "metadata": {
  "kernelspec": {
   "display_name": "Python 3",
   "language": "python",
   "name": "python3"
  },
  "language_info": {
   "codemirror_mode": {
    "name": "ipython",
    "version": 2
   },
   "file_extension": ".py",
   "mimetype": "text/x-python",
   "name": "python",
   "nbconvert_exporter": "python",
   "pygments_lexer": "ipython2",
   "version": "2.7.6"
  }
 },
 "nbformat": 4,
 "nbformat_minor": 5
}
