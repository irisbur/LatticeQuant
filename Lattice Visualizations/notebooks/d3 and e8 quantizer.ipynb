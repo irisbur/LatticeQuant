{
 "cells": [
  {
   "metadata": {},
   "cell_type": "markdown",
   "source": [
    "# $D_3$ and $E_8$ Lattice Quantization\n",
    "\n",
    "## Introduction\n",
    "This notebook demonstrates the encoding and decoding of a normally distributed random variable using the lattices $D_3$ and $E_8$. \n",
    "We will build nested lattices, implement the closest-point algorithms for these lattices, and explore how scaling affects the error rate in decoding."
   ],
   "id": "6c4f32e594635192"
  },
  {
   "metadata": {
    "ExecuteTime": {
     "end_time": "2024-10-13T13:28:21.260915Z",
     "start_time": "2024-10-13T13:28:21.256888Z"
    }
   },
   "cell_type": "code",
   "source": [
    "import numpy as np\n",
    "import matplotlib.pyplot as plt"
   ],
   "id": "8fd015b4521faf69",
   "outputs": [],
   "execution_count": 25
  },
  {
   "metadata": {},
   "cell_type": "markdown",
   "source": [
    "## Closest Point Algorithm for the $D_n$ Lattice\n",
    "The lattice $D_n$ consists of points where the sum of components is even. Given a point in $\\mathbb{R}^n$, we round it to the nearest integers and check which of the two possible points in $D_n$ (with even or odd sums) is closest."
   ],
   "id": "f6f13e46a53f6744"
  },
  {
   "metadata": {
    "ExecuteTime": {
     "end_time": "2024-10-13T13:28:21.280813Z",
     "start_time": "2024-10-13T13:28:21.276503Z"
    }
   },
   "cell_type": "code",
   "source": [
    "def g_x(x):\n",
    "    \"\"\"\n",
    "    Compute g(x) by rounding the vector x to the nearest integers, \n",
    "    but flip the rounding for the coordinate farthest from an integer.\n",
    "    \"\"\"\n",
    "    f_x = np.round(x)\n",
    "\n",
    "    fractional_parts = np.abs(x - f_x)\n",
    "    farthest_index = np.argmax(fractional_parts)\n",
    "\n",
    "    g_x_ = f_x.copy()\n",
    "    if g_x_[farthest_index] > x[farthest_index]:\n",
    "        g_x_[farthest_index] = np.floor(x[farthest_index])\n",
    "    else:\n",
    "        g_x_[farthest_index] = np.ceil(x[farthest_index])\n",
    "\n",
    "    return g_x_\n",
    "\n",
    "def closest_point_Dn(x):\n",
    "    \"\"\"\n",
    "    Find the closest point in the D_n lattice for a given vector x.\n",
    "    Uses g_x function for flipping rounding.\n",
    "    \"\"\"\n",
    "    f_x = np.round(x)\n",
    "    g_x_res = g_x(x)\n",
    "    return f_x if np.sum(f_x) % 2 == 0 else g_x_res"
   ],
   "id": "3320beb74fb3c0c9",
   "outputs": [],
   "execution_count": 26
  },
  {
   "metadata": {},
   "cell_type": "markdown",
   "source": [
    "## Closest Point Algorithm for the $E_8$ Lattice\n",
    "\n",
    "The lattice $E_8$ is constructed from $D_8$ and a coset. The closest point in $E_8$ is either the closest point in $D_8$ or the point obtained by adding $(\\frac{1}{2}, \\frac{1}{2}, ..., \\frac{1}{2})$ to the coordinates of $D_8$."
   ],
   "id": "344d46a954228f3a"
  },
  {
   "metadata": {
    "ExecuteTime": {
     "end_time": "2024-10-13T13:28:21.284627Z",
     "start_time": "2024-10-13T13:28:21.281715Z"
    }
   },
   "cell_type": "code",
   "source": [
    "def closest_point_En(x):\n",
    "    \"\"\"\n",
    "    Find the closest point in the E_8 lattice for a given vector x.\n",
    "    Uses g_x function for flipping rounding.\n",
    "    \"\"\"\n",
    "    y_0 = np.round(x) if np.sum(np.round(x)) % 2 == 0 else g_x(x)\n",
    "    \n",
    "    f_x_shifted = np.round(x - 0.5)\n",
    "    g_x_shifted = g_x(x - 0.5)\n",
    "    \n",
    "    y_1 = f_x_shifted + 0.5 if np.sum(f_x_shifted) % 2 == 0 else g_x_shifted + 0.5\n",
    "\n",
    "    if np.linalg.norm(x - y_0) < np.linalg.norm(x - y_1):\n",
    "        return y_0\n",
    "    else:\n",
    "        return y_1"
   ],
   "id": "fd20f86a37a391",
   "outputs": [],
   "execution_count": 27
  },
  {
   "metadata": {},
   "cell_type": "markdown",
   "source": [
    "## Encoding and Decoding\n",
    "\n",
    "Encoding:\n",
    "we map the random vector  $x \\in \\mathbb{R}^n$ to the closest coset in the fine lattice that lies within a shaping region defined by the coarse lattice (a scaled version of the fine lattice).\n",
    "Specifically, the goal is to locate the closest lattice coset in the Voronoi region of the coarse lattice centered around the origin. The coset representative for this region is encoded, allowing us to represent  x  more compactly using a coarse lattice approximation.\n",
    "\n",
    "Decoding:\n",
    "Given the compressed shape of the coset (determined by the coarse lattice), the decoder identifies the corresponding coset within the Voronoi region."
   ],
   "id": "c7cc99c9fde04ea5"
  },
  {
   "metadata": {
    "ExecuteTime": {
     "end_time": "2024-10-13T13:28:21.289251Z",
     "start_time": "2024-10-13T13:28:21.286068Z"
    }
   },
   "cell_type": "code",
   "source": [
    "class Quantizer:\n",
    "    def __init__(self, G, Q_nn, beta=1, q=1):\n",
    "        self.beta = beta\n",
    "        self.q = q\n",
    "        self.G = G\n",
    "        self.Q_nn = Q_nn\n",
    "\n",
    "    def encode(self, x):\n",
    "        fine_x = self.Q_nn(x / self.beta) * self.beta\n",
    "        coarse_x = self.Q_nn(x / self.q) * self.q\n",
    "        x_e = fine_x - coarse_x\n",
    "        encoded = np.dot(x_e, np.linalg.inv(self.G).T)\n",
    "        encoded_mod_q = np.mod(encoded, self.q)\n",
    "        return encoded_mod_q\n",
    "\n",
    "    def decode(self, y):\n",
    "        x_hat = np.dot(self.G, y)\n",
    "        closest_coarse = self.q * self.Q_nn(x_hat / self.q)\n",
    "        return x_hat - closest_coarse"
   ],
   "id": "9b67ef4aec1ec7d9",
   "outputs": [],
   "execution_count": 28
  },
  {
   "metadata": {},
   "cell_type": "markdown",
   "source": "## Step 5: Error Measure for the quantizer",
   "id": "b0a91654c120d3f9"
  },
  {
   "metadata": {
    "ExecuteTime": {
     "end_time": "2024-10-13T13:28:21.292002Z",
     "start_time": "2024-10-13T13:28:21.290260Z"
    }
   },
   "cell_type": "code",
   "source": [
    "def calculate_mse(x, decoded_x):\n",
    "    \"\"\"\n",
    "    Calculate the Mean Squared Error between the original vector x and the decoded vector decoded_x.\n",
    "    \"\"\"\n",
    "    return (np.linalg.norm(x - decoded_x) ** 2) / x.size"
   ],
   "id": "a787b1c325deb644",
   "outputs": [],
   "execution_count": 29
  },
  {
   "metadata": {
    "ExecuteTime": {
     "end_time": "2024-10-13T13:28:21.358739Z",
     "start_time": "2024-10-13T13:28:21.292559Z"
    }
   },
   "cell_type": "code",
   "source": [
    "def calculate_avg_error(d, q, G, Q_nn, num_samples=50):\n",
    "    errors = []\n",
    "    betas = np.linspace(0.01, q, 5)\n",
    "    \n",
    "    for beta in betas:\n",
    "        quantizer = Quantizer(G, Q_nn)\n",
    "        avg_error = 0\n",
    "        \n",
    "        for _ in range(num_samples):\n",
    "            x = np.random.normal(0, 10, d)\n",
    "            encoded_x = quantizer.encode(x)\n",
    "            decoded_x = quantizer.decode(encoded_x)\n",
    "            error = calculate_mse(x, decoded_x)\n",
    "            avg_error += error\n",
    "        \n",
    "        avg_error /= num_samples\n",
    "        errors.append(avg_error)\n",
    "    best_beta_index = np.argmin(errors)\n",
    "    best_beta = betas[best_beta_index]\n",
    "    # plot_beta_results(betas, errors, best_beta)\n",
    "    return errors, best_beta, errors[best_beta_index]\n",
    "\n",
    "def plot_beta_results(betas, errors, best_beta):\n",
    "    plt.figure(figsize=(10, 6))\n",
    "    plt.plot(betas, errors, marker='o')\n",
    "    plt.title('Distortion vs. Beta')\n",
    "    plt.xlabel('Beta')\n",
    "    plt.ylabel('Average Distortion (Error)')\n",
    "    plt.grid()\n",
    "    plt.axvline(x=best_beta, color='r', linestyle='--', label=f'Best Beta: {best_beta:.2f}')\n",
    "    plt.legend()\n",
    "    plt.show()\n",
    "\n",
    "def plot_q_results(lattice_name, q_values, average_errors):\n",
    "    plt.figure(figsize=(12, 6))\n",
    "    plt.plot(q_values, average_errors, marker='o', label='Average Error')\n",
    "    plt.title(f'Average Distortion vs. q for {lattice_name} Lattice')\n",
    "    plt.xlabel('q')\n",
    "    plt.ylabel('Average Distortion (Error)')\n",
    "    plt.grid()\n",
    "\n",
    "    for q in q_values:\n",
    "        plt.axvline(x=q, color='gray', linestyle='--', alpha=0.5)\n",
    "\n",
    "    plt.legend()\n",
    "    plt.show()\n",
    "    \n",
    "def run_experiment(lattice_name, q_values, d, G, Q_nn, num_samples=50):\n",
    "    results = {}\n",
    "    for q in q_values:\n",
    "        errors, best_beta, smallest_error = calculate_avg_error(d, q, G, Q_nn, num_samples)\n",
    "        results[q] = (best_beta, smallest_error)\n",
    "\n",
    "    q_list = list(results.keys())\n",
    "    average_errors = [results[q][1] for q in q_list]\n",
    "    \n",
    "    plot_q_results(lattice_name, q_list, average_errors)\n",
    "    \n",
    "    for q in q_list:\n",
    "        print(f\"Best beta for q={q}: {results[q][0]:.2f} with average error: {results[q][1]:.4f}\")\n"
   ],
   "id": "9c009fb61d9db277",
   "outputs": [],
   "execution_count": 30
  },
  {
   "metadata": {},
   "cell_type": "markdown",
   "source": "## Scaling Experiment for $D_3$",
   "id": "1493830d22a49b0"
  },
  {
   "metadata": {
    "ExecuteTime": {
     "end_time": "2024-10-13T13:28:21.449087Z",
     "start_time": "2024-10-13T13:28:21.359989Z"
    }
   },
   "cell_type": "code",
   "source": [
    "G_D_3 = np.array([\n",
    "    [ 1, -1,  0],\n",
    "    [ 0,  1, -1],\n",
    "    [ 0,  1,  1]\n",
    "]).transpose()\n",
    "\n",
    "\n",
    "num_samples = 100  \n",
    "q_values = [10]\n",
    "\n",
    "run_experiment(\"D3\", q_values, 3, G_D_3, closest_point_Dn, num_samples)"
   ],
   "id": "70732ac8274b6f3e",
   "outputs": [
    {
     "data": {
      "text/plain": [
       "<Figure size 1200x600 with 1 Axes>"
      ],
      "image/png": "[encoded data removed]"
     },
     "metadata": {},
     "output_type": "display_data"
    },
    {
     "name": "stdout",
     "output_type": "stream",
     "text": [
      "Best beta for q=10: 0.01 with average error: 87.3458\n"
     ]
    }
   ],
   "execution_count": 31
  },
  {
   "metadata": {},
   "cell_type": "markdown",
   "source": "## Scaling Experiment for $E_8$",
   "id": "c104b0a8b62199fb"
  },
  {
   "cell_type": "code",
   "id": "initial_id",
   "metadata": {
    "collapsed": true,
    "ExecuteTime": {
     "end_time": "2024-10-13T13:28:21.451694Z",
     "start_time": "2024-10-13T13:28:21.449724Z"
    }
   },
   "source": [
    "# G_E_8 = np.array([\n",
    "#     [2,  0,  0,  0,  0,  0,  0,  0],\n",
    "#     [-1,  1,  0,  0,  0,  0,  0,  0],\n",
    "#     [0,  -1,  1,  0,  0,  0,  0,  0],\n",
    "#     [0,  0,  -1,  1,  0,  0,  0,  0],\n",
    "#     [0,  0,  0,  -1,  1,  0,  0,  0],\n",
    "#     [0,  0,  0,  0,  -1,  1,  0,  0],\n",
    "#     [0,  0,  0,  0,  0,  -1,  1,  0],\n",
    "#     [0.5,  0.5,  0.5,  0.5,  0.5,  0.5,  0.5,  0.5]\n",
    "# ]).T\n",
    "# \n",
    "# # Parameters\n",
    "# num_samples = 50  # number of random samples\n",
    "# q_values = np.linspace(2, 100, 10).astype(int)  # 50 q values between 2 and 100\n",
    "# run_experiment(\"E8\", q_values, 8, G_E_8, closest_point_En, num_samples)"
   ],
   "outputs": [],
   "execution_count": 32
  },
  {
   "metadata": {},
   "cell_type": "markdown",
   "source": [
    "## Conclusion\n",
    "\n",
    "In this notebook, we implemented the closest-point algorithms for lattices $D_n$ and $E_8$, encoded and decoded random Gaussian vectors using these lattices, and explored how scaling affects error rates. As we can see from the plot, larger scaling factors tend to reduce the error, but eventually, the error stabilizes due to the structure of the lattice."
   ],
   "id": "d3494fb49c0ad7b4"
  }
 ],
 "metadata": {
  "kernelspec": {
   "display_name": "Python 3",
   "language": "python",
   "name": "python3"
  },
  "language_info": {
   "codemirror_mode": {
    "name": "ipython",
    "version": 2
   },
   "file_extension": ".py",
   "mimetype": "text/x-python",
   "name": "python",
   "nbconvert_exporter": "python",
   "pygments_lexer": "ipython2",
   "version": "2.7.6"
  }
 },
 "nbformat": 4,
 "nbformat_minor": 5
}
